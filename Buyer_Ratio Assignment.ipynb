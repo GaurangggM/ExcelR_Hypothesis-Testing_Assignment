{
 "cells": [
  {
   "cell_type": "markdown",
   "id": "7d262eb6",
   "metadata": {},
   "source": [
    "# WE ASSUME NULL HYPOTHESIS AS MALE-FEMALE BUYER RATIOS IS SAME IN ALL THE REGIONS, µ1=µ2."
   ]
  },
  {
   "cell_type": "markdown",
   "id": "c9abbc86",
   "metadata": {},
   "source": [
    "# ALTERNATE HYPOTHESIS CAN BE ASSUMED AS MALE-FEMALE BUYER RATIO IS NOT SAME IN ALL THE REGIONS, µ1≠µ2."
   ]
  },
  {
   "cell_type": "code",
   "execution_count": 1,
   "id": "46f0f563",
   "metadata": {},
   "outputs": [],
   "source": [
    "import pandas as pd\n",
    "import numpy as np\n",
    "from scipy import stats\n",
    "from scipy.stats import norm"
   ]
  },
  {
   "cell_type": "code",
   "execution_count": 2,
   "id": "026e7b04",
   "metadata": {},
   "outputs": [],
   "source": [
    "df=pd.read_csv(\"D:\\\\Assignments\\\\3\\\\BuyerRatio.csv\")"
   ]
  },
  {
   "cell_type": "code",
   "execution_count": 3,
   "id": "40610c1d",
   "metadata": {},
   "outputs": [
    {
     "data": {
      "text/html": [
       "<div>\n",
       "<style scoped>\n",
       "    .dataframe tbody tr th:only-of-type {\n",
       "        vertical-align: middle;\n",
       "    }\n",
       "\n",
       "    .dataframe tbody tr th {\n",
       "        vertical-align: top;\n",
       "    }\n",
       "\n",
       "    .dataframe thead th {\n",
       "        text-align: right;\n",
       "    }\n",
       "</style>\n",
       "<table border=\"1\" class=\"dataframe\">\n",
       "  <thead>\n",
       "    <tr style=\"text-align: right;\">\n",
       "      <th></th>\n",
       "      <th>Observed Values</th>\n",
       "      <th>East</th>\n",
       "      <th>West</th>\n",
       "      <th>North</th>\n",
       "      <th>South</th>\n",
       "    </tr>\n",
       "  </thead>\n",
       "  <tbody>\n",
       "    <tr>\n",
       "      <th>0</th>\n",
       "      <td>Males</td>\n",
       "      <td>50</td>\n",
       "      <td>142</td>\n",
       "      <td>131</td>\n",
       "      <td>70</td>\n",
       "    </tr>\n",
       "    <tr>\n",
       "      <th>1</th>\n",
       "      <td>Females</td>\n",
       "      <td>435</td>\n",
       "      <td>1523</td>\n",
       "      <td>1356</td>\n",
       "      <td>750</td>\n",
       "    </tr>\n",
       "  </tbody>\n",
       "</table>\n",
       "</div>"
      ],
      "text/plain": [
       "  Observed Values  East  West  North  South\n",
       "0           Males    50   142    131     70\n",
       "1         Females   435  1523   1356    750"
      ]
     },
     "execution_count": 3,
     "metadata": {},
     "output_type": "execute_result"
    }
   ],
   "source": [
    "df.head()"
   ]
  },
  {
   "cell_type": "code",
   "execution_count": 4,
   "id": "159ac47c",
   "metadata": {},
   "outputs": [],
   "source": [
    "pvalue=stats.chi2_contingency([df[\"East\"],df[\"West\"],df[\"South\"],df[\"North\"]])"
   ]
  },
  {
   "cell_type": "code",
   "execution_count": 5,
   "id": "b4c0845b",
   "metadata": {},
   "outputs": [
    {
     "data": {
      "text/plain": [
       "Chi2ContingencyResult(statistic=1.5959455386610577, pvalue=0.6603094907091882, dof=3, expected_freq=array([[  42.76531299,  442.23468701],\n",
       "       [ 146.81287862, 1518.18712138],\n",
       "       [  72.30424052,  747.69575948],\n",
       "       [ 131.11756787, 1355.88243213]]))"
      ]
     },
     "execution_count": 5,
     "metadata": {},
     "output_type": "execute_result"
    }
   ],
   "source": [
    "pvalue"
   ]
  },
  {
   "cell_type": "markdown",
   "id": "91f23138",
   "metadata": {},
   "source": [
    "# HERE, WE CAN SEE THAT P_VALUE IS GREATER THAN SIGNIFIACANCE VALUE i.e 0.05. \n"
   ]
  },
  {
   "cell_type": "markdown",
   "id": "f50f2ea0",
   "metadata": {},
   "source": [
    "# THEREFORE, WE ACCEPT NULL HYPOTHESIS."
   ]
  },
  {
   "cell_type": "markdown",
   "id": "5349226d",
   "metadata": {},
   "source": [
    "# HENCE, WE CAN CONCLUDE THAT THE RATIO OF MALE AND FEMALE IN ALL THE REGIONS IS THE SAME."
   ]
  },
  {
   "cell_type": "code",
   "execution_count": null,
   "id": "05883558",
   "metadata": {},
   "outputs": [],
   "source": []
  }
 ],
 "metadata": {
  "kernelspec": {
   "display_name": "Python 3 (ipykernel)",
   "language": "python",
   "name": "python3"
  },
  "language_info": {
   "codemirror_mode": {
    "name": "ipython",
    "version": 3
   },
   "file_extension": ".py",
   "mimetype": "text/x-python",
   "name": "python",
   "nbconvert_exporter": "python",
   "pygments_lexer": "ipython3",
   "version": "3.11.3"
  }
 },
 "nbformat": 4,
 "nbformat_minor": 5
}
