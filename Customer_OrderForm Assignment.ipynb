{
 "cells": [
  {
   "cell_type": "markdown",
   "id": "b74e8e50",
   "metadata": {},
   "source": [
    "# WE ASSUME NULL HYPOTHESIS TO BE THE DEFECTIVE PERCENTAGE DOES NOT VARY BY CENTRE, µ1=µ2."
   ]
  },
  {
   "cell_type": "markdown",
   "id": "7d63a07b",
   "metadata": {},
   "source": [
    "# ALTERNATE HYPOTHESIS IS ASSUMED AS DEFECTIVE PERCENTAGE IS DOES VARY BY CENTRE, µ1≠µ2."
   ]
  },
  {
   "cell_type": "code",
   "execution_count": 1,
   "id": "fff58186",
   "metadata": {},
   "outputs": [],
   "source": [
    "import pandas as pd\n",
    "import numpy as np\n",
    "from scipy import stats\n",
    "from scipy.stats import norm"
   ]
  },
  {
   "cell_type": "code",
   "execution_count": 2,
   "id": "f23a38d2",
   "metadata": {},
   "outputs": [],
   "source": [
    "df=pd.read_csv(\"D:\\\\Assignments\\\\3\\\\Costomer+OrderForm.csv\")"
   ]
  },
  {
   "cell_type": "code",
   "execution_count": 3,
   "id": "a58c3a13",
   "metadata": {},
   "outputs": [
    {
     "data": {
      "text/html": [
       "<div>\n",
       "<style scoped>\n",
       "    .dataframe tbody tr th:only-of-type {\n",
       "        vertical-align: middle;\n",
       "    }\n",
       "\n",
       "    .dataframe tbody tr th {\n",
       "        vertical-align: top;\n",
       "    }\n",
       "\n",
       "    .dataframe thead th {\n",
       "        text-align: right;\n",
       "    }\n",
       "</style>\n",
       "<table border=\"1\" class=\"dataframe\">\n",
       "  <thead>\n",
       "    <tr style=\"text-align: right;\">\n",
       "      <th></th>\n",
       "      <th>Phillippines</th>\n",
       "      <th>Indonesia</th>\n",
       "      <th>Malta</th>\n",
       "      <th>India</th>\n",
       "    </tr>\n",
       "  </thead>\n",
       "  <tbody>\n",
       "    <tr>\n",
       "      <th>0</th>\n",
       "      <td>Error Free</td>\n",
       "      <td>Error Free</td>\n",
       "      <td>Defective</td>\n",
       "      <td>Error Free</td>\n",
       "    </tr>\n",
       "    <tr>\n",
       "      <th>1</th>\n",
       "      <td>Error Free</td>\n",
       "      <td>Error Free</td>\n",
       "      <td>Error Free</td>\n",
       "      <td>Defective</td>\n",
       "    </tr>\n",
       "    <tr>\n",
       "      <th>2</th>\n",
       "      <td>Error Free</td>\n",
       "      <td>Defective</td>\n",
       "      <td>Defective</td>\n",
       "      <td>Error Free</td>\n",
       "    </tr>\n",
       "    <tr>\n",
       "      <th>3</th>\n",
       "      <td>Error Free</td>\n",
       "      <td>Error Free</td>\n",
       "      <td>Error Free</td>\n",
       "      <td>Error Free</td>\n",
       "    </tr>\n",
       "    <tr>\n",
       "      <th>4</th>\n",
       "      <td>Error Free</td>\n",
       "      <td>Error Free</td>\n",
       "      <td>Defective</td>\n",
       "      <td>Error Free</td>\n",
       "    </tr>\n",
       "  </tbody>\n",
       "</table>\n",
       "</div>"
      ],
      "text/plain": [
       "  Phillippines   Indonesia       Malta       India\n",
       "0   Error Free  Error Free   Defective  Error Free\n",
       "1   Error Free  Error Free  Error Free   Defective\n",
       "2   Error Free   Defective   Defective  Error Free\n",
       "3   Error Free  Error Free  Error Free  Error Free\n",
       "4   Error Free  Error Free   Defective  Error Free"
      ]
     },
     "execution_count": 3,
     "metadata": {},
     "output_type": "execute_result"
    }
   ],
   "source": [
    "df.head()"
   ]
  },
  {
   "cell_type": "code",
   "execution_count": 5,
   "id": "de2228c9",
   "metadata": {},
   "outputs": [],
   "source": [
    "pvalue=stats.chi2_contingency([df[\"Phillippines\"].value_counts(),df[\"Indonesia\"].value_counts(),df[\"Malta\"].value_counts(),df[\"India\"].value_counts()])"
   ]
  },
  {
   "cell_type": "code",
   "execution_count": 6,
   "id": "17798c43",
   "metadata": {},
   "outputs": [
    {
     "data": {
      "text/plain": [
       "Chi2ContingencyResult(statistic=3.8589606858203545, pvalue=0.2771020991233144, dof=3, expected_freq=array([[271.75,  28.25],\n",
       "       [271.75,  28.25],\n",
       "       [271.75,  28.25],\n",
       "       [271.75,  28.25]]))"
      ]
     },
     "execution_count": 6,
     "metadata": {},
     "output_type": "execute_result"
    }
   ],
   "source": [
    "pvalue"
   ]
  },
  {
   "cell_type": "markdown",
   "id": "4c825fb5",
   "metadata": {},
   "source": [
    "# HERE WE CAN SEE THAT P_VALUES IS GREATER THAN SIGNIFICANCE LEVEL i.e 0.05."
   ]
  },
  {
   "cell_type": "markdown",
   "id": "9dd1b000",
   "metadata": {},
   "source": [
    "# HENCE, WE ACCEPT NULL HYPOTHESIS."
   ]
  },
  {
   "cell_type": "markdown",
   "id": "6ee8e222",
   "metadata": {},
   "source": [
    "# THEREFORE, WE CAN CONCLUDE THAT THE DEFECTIVE PERCENTAGE DOES NOT VARY BY CENTRE."
   ]
  },
  {
   "cell_type": "code",
   "execution_count": null,
   "id": "1e3d6fda",
   "metadata": {},
   "outputs": [],
   "source": []
  }
 ],
 "metadata": {
  "kernelspec": {
   "display_name": "Python 3 (ipykernel)",
   "language": "python",
   "name": "python3"
  },
  "language_info": {
   "codemirror_mode": {
    "name": "ipython",
    "version": 3
   },
   "file_extension": ".py",
   "mimetype": "text/x-python",
   "name": "python",
   "nbconvert_exporter": "python",
   "pygments_lexer": "ipython3",
   "version": "3.11.3"
  }
 },
 "nbformat": 4,
 "nbformat_minor": 5
}
